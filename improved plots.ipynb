{
 "cells": [
  {
   "cell_type": "code",
   "execution_count": 1,
   "id": "d35b4552",
   "metadata": {},
   "outputs": [],
   "source": [
    "import numpy as np\n",
    "import pandas as pd\n",
    "import matplotlib.pyplot as plt"
   ]
  },
  {
   "cell_type": "code",
   "execution_count": 3,
   "id": "1d84b7fd",
   "metadata": {},
   "outputs": [],
   "source": [
    "import matplotlib as mpl\n",
    "\n",
    "# --- set global font to Times New Roman ---\n",
    "mpl.rc('font', family='serif', serif=['Times New Roman'])\n",
    "mpl.rcParams.update({\n",
    "    'text.usetex': False,            # switch to True if you have a TeX installation\n",
    "    'font.size': 16,                 # fallback for general text\n",
    "    'axes.titlesize': 20,\n",
    "    'axes.labelsize': 20,\n",
    "    'xtick.labelsize': 20,\n",
    "    'ytick.labelsize': 20,\n",
    "    'legend.fontsize': 20,\n",
    "    'figure.titlesize': 20,\n",
    "})"
   ]
  },
  {
   "cell_type": "code",
   "execution_count": null,
   "id": "e592597a",
   "metadata": {},
   "outputs": [],
   "source": [
    "import numpy as np\n",
    "import matplotlib.pyplot as plt\n",
    "\n",
    "\n",
    "\n",
    "# --- Plot only the mean curves ---\n",
    "plt.figure(figsize=(6, 4))\n",
    "\n",
    "\n",
    "# save to SVG:\n",
    "\n",
    "plt.plot(epsilons, mean_spl,    '-o', linewidth=2, markersize=6, label='SPL')\n",
    "plt.plot(epsilons, mean_rsfd,   '-s', linewidth=2, markersize=6, label='RS+FD')\n",
    "plt.plot(epsilons, mean_rsrfd,  '-^', linewidth=2, markersize=6, label='RS+RFD')\n",
    "plt.plot(epsilons, mean_corrrr, '-D', linewidth=2, markersize=6, label='Corr-RR')\n",
    "#plt.plot(epsilons, mean_corrrr, '-h', linewidth=2, markersize=6, label='Cond-RR')\n",
    "\n",
    "\n",
    "plt.xlabel(r'$ϵ$', fontsize=25)\n",
    "plt.ylabel('MSE', fontsize=20)\n",
    "plt.xticks(fontsize=20)\n",
    "plt.yticks(fontsize=20)\n",
    "plt.ticklabel_format(style='sci', axis='y', scilimits=(0,0))\n",
    "\n",
    "plt.legend(fontsize=18, loc='upper right', frameon=True, edgecolor='black')\n",
    "#plt.grid(True, linestyle='--', linewidth=0.3, alpha=0.7)\n",
    "plt.tight_layout()\n",
    "\n",
    "# Create a dataframe for mean MSEs at each epsilon for each method\n",
    "results_df = pd.DataFrame({\n",
    "    'epsilon': epsilons,\n",
    "    'SPL': mean_spl,\n",
    "    'RS+FD': mean_rsfd,\n",
    "    'RS+RFD': mean_rsrfd,\n",
    "    'Corr-RR': mean_corrrr\n",
    "})\n",
    "\n",
    "#results_df.to_excel('C:\\\\Users\\\\ss6365\\\\Desktop\\\\sp_results\\\\excel\\\\mse_10k_phase_05_attribute_6_cor_vary.xlsx', index=False)\n",
    "#plt.savefig('C:\\\\Users\\\\ss6365\\\\Desktop\\\\sp_results\\\\plots\\\\mse_10k_phase_05_attribute_6_cor_vary.svg', format=\"svg\")\n",
    "\n",
    "\n",
    "plt.show()\n"
   ]
  },
  {
   "cell_type": "code",
   "execution_count": 19,
   "id": "64198dfe",
   "metadata": {},
   "outputs": [],
   "source": [
    "df = pd.read_excel('C:\\\\Users\\\\ss6365\\\\Desktop\\\\sp_results\\\\excel\\\\mse_10k_phase_05_attribute_3_cor_vary.xlsx')\n",
    "\n"
   ]
  },
  {
   "cell_type": "code",
   "execution_count": 20,
   "id": "a01e51b2",
   "metadata": {},
   "outputs": [],
   "source": [
    "mean_spl=df['SPL']\n",
    "mean_rsfd = df['RS+FD']\n",
    "mean_rsrfd =df['RS+RFD']\n",
    "mean_corrrr = df['Corr-RR']\n",
    "epsilons = df['epsilon']\n"
   ]
  },
  {
   "cell_type": "code",
   "execution_count": 21,
   "id": "d23463c5",
   "metadata": {},
   "outputs": [
    {
     "data": {
      "image/png": "[encoded data removed]",
      "text/plain": [
       "<Figure size 432x288 with 1 Axes>"
      ]
     },
     "metadata": {
      "needs_background": "light"
     },
     "output_type": "display_data"
    }
   ],
   "source": [
    "plt.plot(epsilons, mean_spl,    '-o', linewidth=2, markersize=6, label='SPL')\n",
    "plt.plot(epsilons, mean_rsfd,   '-s', linewidth=2, markersize=6, label='RS+FD')\n",
    "plt.plot(epsilons, mean_rsrfd,  '-^', linewidth=2, markersize=6, label='RS+RFD')\n",
    "plt.plot(epsilons, mean_corrrr, '-D', linewidth=2, markersize=6, label='Corr-RR')\n",
    "#plt.plot(epsilons, mean_corrrr, '-h', linewidth=2, markersize=6, label='Cond-RR')\n",
    "\n",
    "\n",
    "plt.xlabel(r'$ϵ$', fontsize=25)\n",
    "plt.ylabel('MSE', fontsize=20)\n",
    "plt.xticks(fontsize=20)\n",
    "plt.yticks(fontsize=20)\n",
    "plt.ticklabel_format(style='sci', axis='y', scilimits=(0,0))\n",
    "\n",
    "plt.legend(fontsize=18, loc='upper right', frameon=True, edgecolor='black')\n",
    "#plt.grid(True, linestyle='--', linewidth=0.3, alpha=0.7)\n",
    "plt.tight_layout()\n",
    "\n",
    "# Create a dataframe for mean MSEs at each epsilon for each method\n",
    "results_df = pd.DataFrame({\n",
    "    'epsilon': epsilons,\n",
    "    'SPL': mean_spl,\n",
    "    'RS+FD': mean_rsfd,\n",
    "    'RS+RFD': mean_rsrfd,\n",
    "    'Corr-RR': mean_corrrr\n",
    "})\n",
    "\n",
    "#results_df.to_excel('C:\\\\Users\\\\ss6365\\\\Desktop\\\\sp_results\\\\excel\\\\mse_10k_phase_05_attribute_6_cor_vary.xlsx', index=False)\n",
    "plt.savefig('C:\\\\Users\\\\ss6365\\\\Desktop\\\\sp_results\\\\plots\\\\mse_10k_phase_05_attribute_3_cor_vary.svg', format=\"svg\")\n",
    "\n",
    "\n",
    "plt.show()"
   ]
  },
  {
   "cell_type": "code",
   "execution_count": null,
   "id": "38a54095",
   "metadata": {},
   "outputs": [],
   "source": []
  }
 ],
 "metadata": {
  "kernelspec": {
   "display_name": "Python 3 (ipykernel)",
   "language": "python",
   "name": "python3"
  },
  "language_info": {
   "codemirror_mode": {
    "name": "ipython",
    "version": 3
   },
   "file_extension": ".py",
   "mimetype": "text/x-python",
   "name": "python",
   "nbconvert_exporter": "python",
   "pygments_lexer": "ipython3",
   "version": "3.11.3"
  }
 },
 "nbformat": 4,
 "nbformat_minor": 5
}
