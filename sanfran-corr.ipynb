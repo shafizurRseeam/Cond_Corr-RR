{
 "cells": [
  {
   "cell_type": "code",
   "execution_count": 1,
   "id": "29927f12",
   "metadata": {},
   "outputs": [],
   "source": [
    "import numpy as np\n",
    "import pandas as pd\n",
    "import matplotlib.pyplot as plt"
   ]
  },
  {
   "cell_type": "code",
   "execution_count": null,
   "id": "f9dea49e",
   "metadata": {},
   "outputs": [],
   "source": [
    "# --- GRR Primitives ---\n",
    "def grr_perturb(x, domain, epsilon):\n",
    "    domain = list(domain)\n",
    "    k = len(domain)\n",
    "    exp_eps = np.exp(epsilon)\n",
    "    p = exp_eps / (exp_eps + k - 1)\n",
    "    if np.random.rand() < p:\n",
    "        return x\n",
    "    return np.random.choice([v for v in domain if v != x])\n",
    "\n",
    "def grr_estimate_frequencies(reports, domain, epsilon):\n",
    "    domain = list(domain)\n",
    "    n = len(reports)\n",
    "    k = len(domain)\n",
    "    exp_eps = np.exp(epsilon)\n",
    "    p = exp_eps / (exp_eps + k - 1)\n",
    "    q = 1.0 / (exp_eps + k - 1)\n",
    "\n",
    "    counts = {v: 0 for v in domain}\n",
    "    for r in reports:\n",
    "        if r in counts:\n",
    "            counts[r] += 1\n",
    "        else:\n",
    "            raise ValueError(f\"Reported value '{r}' not in domain\")\n",
    "\n",
    "    return {v: (counts[v] - n * q) / (n * (p - q)) for v in domain}"
   ]
  }
 ],
 "metadata": {
  "kernelspec": {
   "display_name": "Python 3 (ipykernel)",
   "language": "python",
   "name": "python3"
  },
  "language_info": {
   "codemirror_mode": {
    "name": "ipython",
    "version": 3
   },
   "file_extension": ".py",
   "mimetype": "text/x-python",
   "name": "python",
   "nbconvert_exporter": "python",
   "pygments_lexer": "ipython3",
   "version": "3.11.3"
  }
 },
 "nbformat": 4,
 "nbformat_minor": 5
}
